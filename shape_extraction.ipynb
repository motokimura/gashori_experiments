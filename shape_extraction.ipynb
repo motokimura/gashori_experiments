{
 "cells": [
  {
   "cell_type": "code",
   "execution_count": 1,
   "metadata": {},
   "outputs": [],
   "source": [
    "import matplotlib.pyplot as plt\n",
    "%matplotlib inline\n",
    "\n",
    "import numpy as np\n",
    "import cv2\n",
    "from skimage import io\n",
    "import seaborn as sns\n",
    "\n",
    "from tqdm import tqdm\n",
    "import os"
   ]
  },
  {
   "cell_type": "markdown",
   "metadata": {},
   "source": [
    "# Generate src mask/boundary images to extract the shape"
   ]
  },
  {
   "cell_type": "code",
   "execution_count": 2,
   "metadata": {
    "scrolled": false
   },
   "outputs": [
    {
     "name": "stdout",
     "output_type": "stream",
     "text": [
      "src_mask: \n"
     ]
    },
    {
     "data": {
      "image/png": "[encoded data removed]",
      "text/plain": [
       "<Figure size 432x288 with 1 Axes>"
      ]
     },
     "metadata": {
      "needs_background": "light"
     },
     "output_type": "display_data"
    },
    {
     "name": "stdout",
     "output_type": "stream",
     "text": [
      "src_boundary: \n"
     ]
    },
    {
     "data": {
      "image/png": "[encoded data removed]",
      "text/plain": [
       "<Figure size 432x288 with 1 Axes>"
      ]
     },
     "metadata": {
      "needs_background": "light"
     },
     "output_type": "display_data"
    },
    {
     "name": "stdout",
     "output_type": "stream",
     "text": [
      "src_mask + src_boundary: \n"
     ]
    },
    {
     "data": {
      "image/png": "[encoded data removed]",
      "text/plain": [
       "<Figure size 432x288 with 1 Axes>"
      ]
     },
     "metadata": {
      "needs_background": "light"
     },
     "output_type": "display_data"
    }
   ],
   "source": [
    "h, w = 800, 800\n",
    "\n",
    "src_mask = np.zeros(shape=[h, w], dtype=np.uint8)\n",
    "radius = min(h, w) // 3\n",
    "cv2.circle(src_mask, (w // 2, h // 2), radius, (255, ), -1)\n",
    "#cv2.rectangle(src_mask, (w//4, h // 4), (3*w//4, 3*h//4), (255, ), -1)\n",
    "src_mask = src_mask.astype(bool)\n",
    "\n",
    "src_boundary = np.zeros(shape=[h, w], dtype=np.uint8)\n",
    "thickness = 2\n",
    "cv2.circle(src_boundary, (w // 2, h // 2), radius, (255, ), thickness)\n",
    "#cv2.rectangle(src_boundary, (w//4, h // 4), (3*w//4, 3*h//4), (255, ), thickness)\n",
    "src_boundary = src_boundary.astype(bool)\n",
    "\n",
    "src_mask[src_boundary] = False\n",
    "\n",
    "print(\"src_mask: \"); plt.imshow(src_mask); plt.show()\n",
    "print(\"src_boundary: \"); plt.imshow(src_boundary); plt.show()\n",
    "\n",
    "\n",
    "# Composite mask + boundary just for visualization\n",
    "mask_boundary_composite = np.zeros(shape=[h, w, 3], dtype=np.uint8)\n",
    "mask_boundary_composite[src_boundary] = np.array([255, 0, 0])\n",
    "mask_boundary_composite[src_mask] = np.array([0, 0, 255])\n",
    "\n",
    "print(\"src_mask + src_boundary: \"); plt.imshow(mask_boundary_composite); plt.show()"
   ]
  },
  {
   "cell_type": "markdown",
   "metadata": {},
   "source": [
    "# Extract the shape from the boundary / mask images"
   ]
  },
  {
   "cell_type": "code",
   "execution_count": 3,
   "metadata": {},
   "outputs": [],
   "source": [
    "def apply_least_square_fit(x, y):\n",
    "    \n",
    "    '''\n",
    "    x_mean = np.mean(x)\n",
    "    y_mean = np.mean(y)\n",
    "    \n",
    "    s_xy = (x - x_mean) @ (y - y_mean)\n",
    "    s_xx = (x - x_mean) @ (x - x_mean)\n",
    "    \n",
    "    if s_xx == 0.0:\n",
    "        return None\n",
    "    \n",
    "    a = s_xy / s_xx\n",
    "    b = y_mean - a * x_mean\n",
    "    \n",
    "    return a, b\n",
    "    '''\n",
    "    \n",
    "    # Ref:\n",
    "    # http://www.fmaj7b5.info/wiki/index.php?title=%E6%9C%80%E5%B0%8F%E4%BA%8C%E4%B9%97%E6%B3%95%E3%81%A8%E3%81%8B\n",
    "    # https://ksmzn.hatenablog.com/entry/2014/02/16/004921\n",
    "    \n",
    "    X = np.array([x, y, np.ones(shape=len(x))])\n",
    "    \n",
    "    w, v = np.linalg.eig(X @ X.T)\n",
    "    \n",
    "    idx = np.argmin(w)\n",
    "    v = v[:, idx]\n",
    "    \n",
    "    v = v / np.sqrt(np.sum(v ** 2.0))\n",
    "    c1, c2, c3 = v # c1 * x + c2 * y + c3 = 0\n",
    "    \n",
    "    if c2 == 0.0:\n",
    "        return None\n",
    "    \n",
    "    else:\n",
    "        a, b = - c1 / c2, - c3 / c2 # y = a * x + b\n",
    "        return a, b"
   ]
  },
  {
   "cell_type": "code",
   "execution_count": 4,
   "metadata": {},
   "outputs": [],
   "source": [
    "def extract_shape_on_patch(mask_patch, boundary_patch):\n",
    "    \n",
    "    h, w = mask_patch.shape\n",
    "    boundary_ys, boundary_xs = np.where(boundary_patch)\n",
    "    \n",
    "    ret = apply_least_square_fit(boundary_xs, boundary_ys)\n",
    "    \n",
    "    mask_count_lower, mask_count_uppper = 0, 0\n",
    "    \n",
    "    if ret is not None:\n",
    "        a, b = ret\n",
    "        theta = np.arctan(a) + np.pi / 2.0\n",
    "        \n",
    "        for x in range(w):\n",
    "            y_thresh = a * x + b\n",
    "            \n",
    "            for y in range(h):\n",
    "                if y >= y_thresh:\n",
    "                    mask_count_uppper += int(mask_patch[y, x])\n",
    "                else:\n",
    "                    mask_count_lower += int(mask_patch[y, x])\n",
    "    \n",
    "    else:\n",
    "        theta = np.pi\n",
    "        \n",
    "        x_thresh = np.mean(boundary_xs)\n",
    "        \n",
    "        for y in range(h):\n",
    "            for x in range(w):\n",
    "                \n",
    "                if x <= x_thresh:\n",
    "                    mask_count_uppper += int(mask_patch[y, x])\n",
    "                else:\n",
    "                    mask_count_lower += int(mask_patch[y, x])\n",
    "                    \n",
    "        \n",
    "    if mask_count_lower > mask_count_uppper:\n",
    "        theta -= np.pi\n",
    "    \n",
    "    # Normalize from (-180.0 ~ 180.0) to (0 ~ 360.0)\n",
    "    if theta < 0.0:\n",
    "        theta += 2.0 * np.pi\n",
    "    \n",
    "    return np.degrees(theta)"
   ]
  },
  {
   "cell_type": "code",
   "execution_count": 5,
   "metadata": {},
   "outputs": [
    {
     "name": "stderr",
     "output_type": "stream",
     "text": [
      "4972it [00:12, 392.18it/s]"
     ]
    },
    {
     "name": "stdout",
     "output_type": "stream",
     "text": [
      "0.002253045192593341 [deg] ~ 359.9848122625225 [deg]\n"
     ]
    },
    {
     "name": "stderr",
     "output_type": "stream",
     "text": [
      "\n"
     ]
    }
   ],
   "source": [
    "def extract_shape(mask_img, boundary_img, patch_size=40):\n",
    "    \n",
    "    h, w = mask_img.shape\n",
    "    shape_img = np.empty(shape=[h, w], dtype=np.float64)\n",
    "    shape_img[np.logical_not(boundary_img)] = None\n",
    "    \n",
    "     # Create padded images for later\n",
    "    pad = patch_size // 2\n",
    "    \n",
    "    mask_img_padded = np.zeros(shape=[h + patch_size, w + patch_size], dtype=bool)\n",
    "    mask_img_padded[pad:-pad, pad:-pad] = mask_img\n",
    "    \n",
    "    boundary_img_padded = np.zeros(shape=[h + patch_size, w + patch_size], dtype=bool)\n",
    "    boundary_img_padded[pad:-pad, pad:-pad] = boundary_img\n",
    "    \n",
    "    # Extract all points on the boundary and fit a line for each point \n",
    "    # based on the distribution of boudary/mask points on the patch cropped around the point\n",
    "    boundary_ys, boundary_xs = np.where(boundary_img)\n",
    "    \n",
    "    for patch_center_x, patch_center_y in tqdm(zip(boundary_xs, boundary_ys)):\n",
    "        left = patch_center_x - patch_size // 2\n",
    "        top = patch_center_y - patch_size // 2\n",
    "        right = left + patch_size\n",
    "        bottom = top + patch_size\n",
    "        \n",
    "        mask_patch = mask_img_padded[top+pad:bottom+pad, left+pad:right+pad]\n",
    "        boundary_patch = boundary_img_padded[top+pad:bottom+pad, left+pad:right+pad]\n",
    "        \n",
    "        shape = extract_shape_on_patch(mask_patch, boundary_patch)\n",
    "        shape_img[patch_center_y, patch_center_x] = shape\n",
    "    \n",
    "    return shape_img\n",
    "\n",
    "\n",
    "shape_img = extract_shape(src_mask, src_boundary)\n",
    "\n",
    "print(\"{} [deg] ~ {} [deg]\".format( shape_img[src_boundary].min(), shape_img[src_boundary].max() ))"
   ]
  },
  {
   "cell_type": "markdown",
   "metadata": {},
   "source": [
    "# Visualize the extracted shape"
   ]
  },
  {
   "cell_type": "code",
   "execution_count": 6,
   "metadata": {},
   "outputs": [],
   "source": [
    "color_num = 6\n",
    "palette = sns.hls_palette(color_num)\n",
    "\n",
    "palette_byte = np.empty(shape=[0, 3], dtype=np.uint8)\n",
    "for color in palette:\n",
    "    color_byte = np.array([[int(color[0] * 255.0), int(color[1] * 255.0), int(color[2] * 255.0)]])\n",
    "    palette_byte = np.append(palette_byte, color_byte, axis=0)"
   ]
  },
  {
   "cell_type": "code",
   "execution_count": 7,
   "metadata": {},
   "outputs": [
    {
     "data": {
      "image/png": "[encoded data removed]",
      "text/plain": [
       "<Figure size 864x864 with 1 Axes>"
      ]
     },
     "metadata": {
      "needs_background": "light"
     },
     "output_type": "display_data"
    },
    {
     "name": "stdout",
     "output_type": "stream",
     "text": [
      "0[deg]  <----------------------------------------------------> 360[deg]\n"
     ]
    },
    {
     "data": {
      "image/png": "[encoded data removed]",
      "text/plain": [
       "<Figure size 432x72 with 1 Axes>"
      ]
     },
     "metadata": {
      "needs_background": "light"
     },
     "output_type": "display_data"
    }
   ],
   "source": [
    "def colorize_shape(shape_img, boundary_img, color_num):\n",
    "    \n",
    "    # Prepare HLS color palette\n",
    "    palette = sns.hls_palette(color_num)\n",
    "    \n",
    "    palette_byte = np.empty(shape=[0, 3], dtype=np.uint8)\n",
    "    for color in palette:\n",
    "        color_byte = np.array([[int(color[0] * 255.0), int(color[1] * 255.0), int(color[2] * 255.0)]])\n",
    "        palette_byte = np.append(palette_byte, color_byte, axis=0)\n",
    "    \n",
    "    \n",
    "    # Colorize\n",
    "    h, w = shape_img.shape\n",
    "    shape_colorized = np.zeros(shape=[h, w, 3], dtype=np.uint8)\n",
    "    \n",
    "    color_idxs = (shape_img[boundary_img]  / (360.0 - 0.0) * float(color_num)).astype(int)\n",
    "    shape_colorized[boundary_img] = palette_byte[color_idxs]\n",
    "    \n",
    "    shape_colorized[np.logical_not(boundary_img)] = 0\n",
    "    \n",
    "    return shape_colorized\n",
    "\n",
    "\n",
    "shape_colorized = colorize_shape(shape_img, src_boundary, 6)\n",
    "\n",
    "plt.figure(figsize=(12,12))\n",
    "plt.imshow(shape_colorized)\n",
    "plt.show()\n",
    "\n",
    "sns.palplot(palette)\n",
    "print(\"0[deg]  <----------------------------------------------------> 360[deg]\")"
   ]
  },
  {
   "cell_type": "code",
   "execution_count": null,
   "metadata": {},
   "outputs": [],
   "source": []
  }
 ],
 "metadata": {
  "kernelspec": {
   "display_name": "conda3__cv2",
   "language": "python",
   "name": "conda3__cv2"
  },
  "language_info": {
   "codemirror_mode": {
    "name": "ipython",
    "version": 3
   },
   "file_extension": ".py",
   "mimetype": "text/x-python",
   "name": "python",
   "nbconvert_exporter": "python",
   "pygments_lexer": "ipython3",
   "version": "3.7.0"
  }
 },
 "nbformat": 4,
 "nbformat_minor": 2
}
